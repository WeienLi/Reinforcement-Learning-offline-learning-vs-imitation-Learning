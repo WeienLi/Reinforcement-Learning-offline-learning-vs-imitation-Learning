{
  "nbformat": 4,
  "nbformat_minor": 0,
  "metadata": {
    "colab": {
      "provenance": []
    },
    "kernelspec": {
      "name": "python3",
      "display_name": "Python 3"
    },
    "language_info": {
      "name": "python"
    }
  },
  "cells": [
    {
      "cell_type": "markdown",
      "source": [
        "**Author Information**\n",
        "* Barry Li: \n",
        "    * 260912069\n",
        "    * weien.li@mail.mcgill.ca\n",
        "* Minzhe Feng: \n",
        "    * 260886087\n",
        "    * minzhe.feng@mail.mcgill.ca\n",
        "\n",
        "[Colab Link for this Notebook](https://colab.research.google.com/drive/1sV3jljSrtmjilOtplhmDFIjEdt1OumwF?usp=sharing)"
      ],
      "metadata": {
        "id": "E7rNegzAIy0N"
      }
    },
    {
      "cell_type": "code",
      "source": [
        "!pip install gymnasium"
      ],
      "metadata": {
        "colab": {
          "base_uri": "https://localhost:8080/"
        },
        "id": "Ad4WEsdzJCXk",
        "outputId": "0d781186-2e09-4798-8fa6-4090368d4a1d"
      },
      "execution_count": null,
      "outputs": [
        {
          "output_type": "stream",
          "name": "stdout",
          "text": [
            "Looking in indexes: https://pypi.org/simple, https://us-python.pkg.dev/colab-wheels/public/simple/\n",
            "Requirement already satisfied: gymnasium in /usr/local/lib/python3.9/dist-packages (0.28.1)\n",
            "Requirement already satisfied: numpy>=1.21.0 in /usr/local/lib/python3.9/dist-packages (from gymnasium) (1.22.4)\n",
            "Requirement already satisfied: farama-notifications>=0.0.1 in /usr/local/lib/python3.9/dist-packages (from gymnasium) (0.0.4)\n",
            "Requirement already satisfied: importlib-metadata>=4.8.0 in /usr/local/lib/python3.9/dist-packages (from gymnasium) (6.1.0)\n",
            "Requirement already satisfied: cloudpickle>=1.2.0 in /usr/local/lib/python3.9/dist-packages (from gymnasium) (2.2.1)\n",
            "Requirement already satisfied: typing-extensions>=4.3.0 in /usr/local/lib/python3.9/dist-packages (from gymnasium) (4.5.0)\n",
            "Requirement already satisfied: jax-jumpy>=1.0.0 in /usr/local/lib/python3.9/dist-packages (from gymnasium) (1.0.0)\n",
            "Requirement already satisfied: zipp>=0.5 in /usr/local/lib/python3.9/dist-packages (from importlib-metadata>=4.8.0->gymnasium) (3.15.0)\n"
          ]
        }
      ]
    },
    {
      "cell_type": "code",
      "execution_count": null,
      "metadata": {
        "id": "1CPwk7V_Ik-U"
      },
      "outputs": [],
      "source": [
        "import random\n",
        "import gymnasium as gym\n",
        "import matplotlib.pyplot as plt\n",
        "import seaborn as sns\n",
        "import numpy as np\n",
        "import sklearn\n",
        "from sklearn.linear_model import LogisticRegression"
      ]
    },
    {
      "cell_type": "markdown",
      "source": [
        "# Report"
      ],
      "metadata": {
        "id": "Ue6YqVrOmei-"
      }
    },
    {
      "cell_type": "markdown",
      "source": [
        "**Environment Setup:**  \n",
        "The same cart pole environment that we used in Assignment 2. We also applied the same discretization treatment as last time by splitting each of the four continuous variables into 10 bins to conduct tabular RL.\n",
        "\n",
        "\\\\\n",
        "**Preferred Expert Agent:**  \n",
        "We used the linear function approximation with softmax policy from Assignment 2.\n",
        "\n",
        "\\\\\n",
        "**Imitation Learning Setup:**  \n",
        "We used standard logistic regression, which accepts a 4-tuple describing the current state and outputs the action with the highest predicted value.\n",
        "\n",
        "\\\\\n",
        "**Fitted Q-Learning Setup:**  \n",
        "We implemented the fitted Q-learning agent as described in the assignment and employed full-batch gradient descent. We stopped training each batch of data when the error fell below a pre-determined threshold $\\epsilon$ (1e-4 in this experiment) or after 100 rounds of gradient descent when the error hadn't converged.\n",
        "\n",
        "\\\\\n",
        "**Learning Rate Choice**:  \n",
        "We settled on $\\alpha=1/6$ for our expert agent and $\\alpha=0.015$ for our fitted Q-learning agent, as this pair produced the best results among all the value combinations we tried.\n",
        "\n",
        "\\\\\n",
        "**Experiment Steps:**  \n",
        "We gathered 500 episodes of experience data using the expert policy and another uniformly random policy (where the action taken at each step was drawn from a uniform distribution) while training the expert agent. Preliminary analysis (the plots under the first two sections below) showed that the expert policy had a much longer average episode length than the random policy, as expected.\n",
        "\n",
        "After collecting the dataset, we then created 9 training sets of size 100, 250 & 500. For each size, we have three different variations where:\n",
        "* All episodes are from the expert policy\n",
        "* All episodes are from the random policy\n",
        "* Half were from each policy (referred to as \"half-half\" from now on)\n",
        "\n",
        "At last, we trained the imitation and fitted Q-learning agent on these 9 training sets with 15 epochs each and recorded & plotted the average return for each configuration.\n",
        "\n",
        "**Results & Conclusions**  \n",
        "From the last bar plots, we can see that:\n",
        "* The all-random training sets consistently had the worst performance than the other two variations, as expected. However, the half-half variation displayed surprisingly strong results that were generally on par with those from the all-expert variation.\n",
        "* The only configuration whose performance was noticeably influenced by the size of the dataset was half-half+fitted Q-learning. This could be because fitted Q-learning requiress more high quality expert data to train, while the imitation learning agent could already work reasonably well with just 100 (expert) episode data.\n",
        "* **Most importantly**, when comparing the two agents, we observed that imitation learning performed visibly better than fitted Q-learning (they were still close). This is the biggest surprise in this experiment, and the several factors may have contributed:  \n",
        "    * Our fitted Q-learning implementation might have room for improvements, while the logistic regression algorithm used by the imitation agent is much simpler & has less room for error.\n",
        "    * Fitted Q-learning could require more data for training that this experiment setup simply did not offer.\n",
        "    * The fitted Q-learning agent can potentially stick to its training data too closely and forego exploration opportunities that might lead to better results."
      ],
      "metadata": {
        "id": "cxAE9ATGRmO9"
      }
    },
    {
      "cell_type": "markdown",
      "source": [
        "# Expert Policy"
      ],
      "metadata": {
        "id": "uuev9cTAJNZm"
      }
    },
    {
      "cell_type": "code",
      "source": [
        "class Encoding:\n",
        "    def __init__(self, env):\n",
        "        \"\"\"\n",
        "        set the linspace number to 9 since 10 bins so number biggest than max will\n",
        "        get bin index 9 and number smllaer than min will get bin index 0.\n",
        "        \"\"\"\n",
        "        self.bins = [\n",
        "            np.linspace(-2.4, 2.4, 9),  # cart position\n",
        "            np.linspace(-3, 3, 9),  # cart velocity could be inf\n",
        "            np.linspace(-0.2095, 0.2095, 9),  # pole angel\n",
        "            np.linspace(-3, 3, 9),  # pole velocity could be inf\n",
        "        ]\n",
        "        self.obsSpaceSize = len(env.observation_space.high)\n",
        "\n",
        "    def create_qTable(self, env):  # for the epsilon greedy policy\n",
        "        \n",
        "        qTable = np.random.uniform(\n",
        "            low=-0.001, high=0.001, size=([10] * self.obsSpaceSize) + [env.action_space.n]\n",
        "        )\n",
        "        return qTable\n",
        "\n",
        "    def create_weighttable(self):  # for linear weight approximation\n",
        "        np.random.seed(578)\n",
        "        wtable = np.random.uniform(\n",
        "            low=-0.001, high=0.001, size=([10] * self.obsSpaceSize)\n",
        "        )\n",
        "        return wtable\n",
        "\n",
        "    def get_discrete_state(self, state):\n",
        "        stateIndex = []\n",
        "        for i in range(self.obsSpaceSize):\n",
        "            stateIndex.append(np.digitize(state[i], self.bins[i]))\n",
        "        return tuple(stateIndex)"
      ],
      "metadata": {
        "id": "3TbnStCTJLS8"
      },
      "execution_count": null,
      "outputs": []
    },
    {
      "cell_type": "code",
      "source": [
        "class LinearFunctionApproximation:\n",
        "    def __init__(self, encoder: Encoding, Lr: float):\n",
        "        self.wtable = encoder.create_weighttable()\n",
        "        self.alpha_w = Lr\n",
        "\n",
        "    # evaluate the state using linear approximation\n",
        "    def evaluate(self, state):  # state is discrete state encoded\n",
        "        return self.wtable[state]\n",
        "\n",
        "    def update(self, state, small_delta):  # state is discrete state encoded\n",
        "        self.wtable[state] += self.alpha_w * small_delta"
      ],
      "metadata": {
        "id": "NOteJXisJprM"
      },
      "execution_count": null,
      "outputs": []
    },
    {
      "cell_type": "code",
      "source": [
        "class Softmax_Policy:  # Softmax Policy for Actor Crtic\n",
        "    def __init__(self, encoder: Encoding, Lr: float, temprature: int, env):\n",
        "        self.thetaTable = encoder.create_qTable(env)\n",
        "        self.alpha_theta = Lr\n",
        "        self.temprature = temprature\n",
        "\n",
        "    def pi(self, state):\n",
        "        thetas = self.thetaTable[state]\n",
        "        numerator = np.exp(thetas / self.temprature)\n",
        "        denom = np.sum(numerator)\n",
        "        return numerator / denom\n",
        "\n",
        "    def policy(self, state):\n",
        "        ps = self.pi(state)\n",
        "        return np.random.choice(range(2), p=ps)\n",
        "\n",
        "    def update(self, state, action, factor):  # factor should be I * delta\n",
        "        probvec = self.pi(state)\n",
        "        x_s = np.zeros(2)\n",
        "        x_s[action] = 1\n",
        "        gradient = x_s - probvec\n",
        "        self.thetaTable[state] += self.alpha_theta * gradient * factor"
      ],
      "metadata": {
        "id": "5lcx_cQrJqiu"
      },
      "execution_count": null,
      "outputs": []
    },
    {
      "cell_type": "code",
      "source": [
        "# Training\n",
        "alpha = 1 / 6\n",
        "temprature = 2\n",
        "GAMMA = 0.95\n",
        "\n",
        "\n",
        "def Expert():\n",
        "    seed = 579\n",
        "    env = gym.make(\"CartPole-v1\")\n",
        "    e1 = Encoding(env)\n",
        "    np.random.seed(seed)\n",
        "    Policy = Softmax_Policy(e1, alpha, temprature, env)\n",
        "    LFA = LinearFunctionApproximation(e1, alpha)\n",
        "\n",
        "    for episode in range(700):\n",
        "        I = 1\n",
        "        state = env.reset()[0]\n",
        "        discrete_state = e1.get_discrete_state(state)\n",
        "        R_sum_episode = 0\n",
        "        while True:\n",
        "            action = Policy.policy(discrete_state)\n",
        "            state_next, reward, done, timeout, _ = env.step(action)\n",
        "            discrete_state_next = e1.get_discrete_state(state_next)\n",
        "            target = (\n",
        "                reward + GAMMA * LFA.evaluate(discrete_state_next)\n",
        "                if not (done or timeout)\n",
        "                else reward\n",
        "            )\n",
        "            delta = target - LFA.evaluate(discrete_state)\n",
        "            LFA.update(discrete_state, delta)\n",
        "            Policy.update(discrete_state, action, I * delta)\n",
        "            I *= GAMMA\n",
        "            discrete_state = discrete_state_next\n",
        "            if done or timeout:\n",
        "                break\n",
        "    return Policy"
      ],
      "metadata": {
        "id": "8Hg1UQGZLp8n"
      },
      "execution_count": null,
      "outputs": []
    },
    {
      "cell_type": "code",
      "source": [
        "def ExpertData(Policy):\n",
        "    seed = 579\n",
        "    env = gym.make(\"CartPole-v1\")\n",
        "    e1 = Encoding(env)\n",
        "    np.random.seed(seed)\n",
        "    data = []\n",
        "    for episode in range(500):\n",
        "        state = env.reset()[0]\n",
        "        discrete_state = e1.get_discrete_state(state)\n",
        "        episo_data = []\n",
        "        while True:\n",
        "            action = Policy.policy(discrete_state)\n",
        "            state_next, reward, done, timeout, _ = env.step(action)\n",
        "            discrete_state_next = e1.get_discrete_state(state_next)\n",
        "            step_data = [discrete_state, action, reward, discrete_state_next]\n",
        "            episo_data.append(step_data)\n",
        "            discrete_state = discrete_state_next\n",
        "            if done or timeout:\n",
        "                break\n",
        "        data.append(episo_data)\n",
        "    return data\n"
      ],
      "metadata": {
        "id": "F0-91wqrGzY0"
      },
      "execution_count": null,
      "outputs": []
    },
    {
      "cell_type": "code",
      "source": [
        "ExpertPolicy = Expert()\n",
        "expert_data = ExpertData(ExpertPolicy)\n",
        "np_expert = np.array(expert_data, dtype=object)\n",
        "np_expert.shape"
      ],
      "metadata": {
        "colab": {
          "base_uri": "https://localhost:8080/"
        },
        "id": "R97TljhON4Ry",
        "outputId": "12a403d7-f042-4750-e246-441529b0fd60"
      },
      "execution_count": null,
      "outputs": [
        {
          "output_type": "execute_result",
          "data": {
            "text/plain": [
              "(500,)"
            ]
          },
          "metadata": {},
          "execution_count": 131
        }
      ]
    },
    {
      "cell_type": "code",
      "source": [
        "p = []\n",
        "counts = 0\n",
        "for i in range(500):\n",
        "    p.append(len(np_expert[i]))\n",
        "    counts += len(np_expert[i])\n",
        "print(counts)"
      ],
      "metadata": {
        "colab": {
          "base_uri": "https://localhost:8080/"
        },
        "id": "0_cB-JegPN4E",
        "outputId": "770f459e-3100-4e91-f7e6-0b9f9d655896"
      },
      "execution_count": null,
      "outputs": [
        {
          "output_type": "stream",
          "name": "stdout",
          "text": [
            "73820\n"
          ]
        }
      ]
    },
    {
      "cell_type": "code",
      "source": [
        "xaxis = np.arange(500)\n",
        "plt.figure(figsize=(10, 5))\n",
        "plt.ylim(0, 400)\n",
        "plt.plot(xaxis, p)\n",
        "plt.show()"
      ],
      "metadata": {
        "colab": {
          "base_uri": "https://localhost:8080/",
          "height": 451
        },
        "id": "Vf1OSADASKu_",
        "outputId": "5c82454f-6e24-4204-ca13-176167bea035"
      },
      "execution_count": null,
      "outputs": [
        {
          "output_type": "display_data",
          "data": {
            "text/plain": [
              "<Figure size 1000x500 with 1 Axes>"
            ],
            "image/png": "[encoded data removed]"
          },
          "metadata": {}
        }
      ]
    },
    {
      "cell_type": "markdown",
      "source": [
        "# Random Policy"
      ],
      "metadata": {
        "id": "ou2LwTwOgIvP"
      }
    },
    {
      "cell_type": "code",
      "source": [
        "def Random():\n",
        "    seed = 579\n",
        "    env = gym.make(\"CartPole-v1\")\n",
        "    e1 = Encoding(env)\n",
        "    random.seed(579)\n",
        "    data = []\n",
        "    for episode in range(500):\n",
        "        state = env.reset()[0]\n",
        "        discrete_state = e1.get_discrete_state(state)\n",
        "        episo_data = []\n",
        "        while True:\n",
        "            action = random.choices(population=[1, 0], weights=[0.5, 0.5], k=1)[0]\n",
        "            state_next, reward, done, timeout, _ = env.step(action)\n",
        "            discrete_state_next = e1.get_discrete_state(state_next)\n",
        "\n",
        "            step_data = [discrete_state, action, reward, discrete_state_next]\n",
        "            episo_data.append(step_data)\n",
        "\n",
        "            discrete_state = discrete_state_next\n",
        "            if done or timeout:\n",
        "                break\n",
        "        data.append(episo_data)\n",
        "    return data"
      ],
      "metadata": {
        "id": "lWJgk3QVgJ3N"
      },
      "execution_count": null,
      "outputs": []
    },
    {
      "cell_type": "code",
      "source": [
        "Random_data = Random()\n",
        "np_Random = np.array(Random_data, dtype=object)\n",
        "np_Random.shape"
      ],
      "metadata": {
        "colab": {
          "base_uri": "https://localhost:8080/"
        },
        "id": "BhIIaMdrg7ko",
        "outputId": "ae39a6f7-ddc5-4713-ed71-3a5323bab811"
      },
      "execution_count": null,
      "outputs": [
        {
          "output_type": "execute_result",
          "data": {
            "text/plain": [
              "(500,)"
            ]
          },
          "metadata": {},
          "execution_count": 135
        }
      ]
    },
    {
      "cell_type": "code",
      "source": [
        "count = 0\n",
        "pp = []\n",
        "for i in range(500):\n",
        "    pp.append(len(np_Random[i]))\n",
        "    count += len(np_Random[i])"
      ],
      "metadata": {
        "id": "6Y46hIijhPnL"
      },
      "execution_count": null,
      "outputs": []
    },
    {
      "cell_type": "code",
      "source": [
        "count"
      ],
      "metadata": {
        "colab": {
          "base_uri": "https://localhost:8080/"
        },
        "id": "UJhr1N_izj4o",
        "outputId": "199526a4-dbcf-48e7-c3aa-cf25b1918f07"
      },
      "execution_count": null,
      "outputs": [
        {
          "output_type": "execute_result",
          "data": {
            "text/plain": [
              "10980"
            ]
          },
          "metadata": {},
          "execution_count": 137
        }
      ]
    },
    {
      "cell_type": "code",
      "source": [
        "xaxis = np.arange(500)\n",
        "plt.figure(figsize=(10, 5))\n",
        "plt.ylim(0, 100)\n",
        "plt.plot(xaxis, pp)\n",
        "plt.show()"
      ],
      "metadata": {
        "colab": {
          "base_uri": "https://localhost:8080/",
          "height": 451
        },
        "id": "V0QR0418hUHV",
        "outputId": "e9fd14dd-c552-486b-edbb-956aac4139c1"
      },
      "execution_count": null,
      "outputs": [
        {
          "output_type": "display_data",
          "data": {
            "text/plain": [
              "<Figure size 1000x500 with 1 Axes>"
            ],
            "image/png": "[encoded data removed]"
          },
          "metadata": {}
        }
      ]
    },
    {
      "cell_type": "markdown",
      "source": [
        "# Imitation Learning"
      ],
      "metadata": {
        "id": "8xpbCkEej2Ms"
      }
    },
    {
      "cell_type": "code",
      "source": [
        "class Imitation_Model:\n",
        "    def __init__(self):\n",
        "        self.model = LogisticRegression(random_state=0)\n",
        "\n",
        "    def learn(self, raw_data):\n",
        "        learn_states = np.empty([0, 4])\n",
        "        learn_labels = np.empty(0, dtype=np.int64)\n",
        "        for epi in raw_data:\n",
        "            np_epi = np.array(epi, dtype=object)\n",
        "            arr = np_epi[:, 0]\n",
        "            states = map(np.array, arr)\n",
        "            states = np.array(list(states))\n",
        "            learn_states = np.concatenate((learn_states, states), axis=0)\n",
        "            label = np_epi[:, 1]\n",
        "            np_label = np.asarray(label, dtype=np.int64)\n",
        "            learn_labels = np.concatenate((learn_labels, np_label), axis=None)\n",
        "        self.model.fit(learn_states, learn_labels)"
      ],
      "metadata": {
        "id": "4D4t4_AekHAm"
      },
      "execution_count": null,
      "outputs": []
    },
    {
      "cell_type": "code",
      "source": [
        "# model1 = Imitation_Model()\n",
        "# model1.learn(np_expert)"
      ],
      "metadata": {
        "id": "BMcCTnIMn31c"
      },
      "execution_count": null,
      "outputs": []
    },
    {
      "cell_type": "code",
      "source": [
        "# model1.model.coef_"
      ],
      "metadata": {
        "id": "8zPZJxoKonx7"
      },
      "execution_count": null,
      "outputs": []
    },
    {
      "cell_type": "code",
      "source": [
        "# model1.model.predict_proba([[2, 7, 7, 7]])"
      ],
      "metadata": {
        "id": "Rl80ghBF-J5s"
      },
      "execution_count": null,
      "outputs": []
    },
    {
      "cell_type": "markdown",
      "source": [
        "# Fitted Q-Learning"
      ],
      "metadata": {
        "id": "spxDd9G4K7lS"
      }
    },
    {
      "cell_type": "code",
      "source": [
        "class FittedQLearning:\n",
        "    def __init__(self, encoder, env, alpha, K, iterations, epsilon=1e-4, gamma=0.95):\n",
        "        self.qTable = encoder.create_qTable(env)\n",
        "        self.alpha = alpha\n",
        "        self.batch_size = K\n",
        "        self.iterations = iterations\n",
        "        self.gamma = gamma\n",
        "        self.epsilon = epsilon\n",
        "\n",
        "    def fit(self, prep):\n",
        "        states = prep[:, 0]\n",
        "        actions = prep[:, 1]\n",
        "        rewards = prep[:, 2]\n",
        "        next_states = prep[:, 3]\n",
        "        np.random.seed(579)\n",
        "        for i in range(self.iterations):  # epoch\n",
        "            indices = np.arange(len(prep))\n",
        "            sampled = []\n",
        "            notfinished = True\n",
        "            while notfinished:\n",
        "                remaining = np.setdiff1d(indices, sampled)\n",
        "                if len(remaining) <= self.batch_size:\n",
        "                    notfinished = False\n",
        "                    idx = remaining\n",
        "                else:\n",
        "                    idx = np.random.choice(remaining, size=self.batch_size, replace=False)\n",
        "                states_batch = states[idx]\n",
        "                actions_batch = actions[idx].astype(int)\n",
        "                rewards_batch = rewards[idx].astype(np.float64)\n",
        "                next_states_batch = next_states[idx]\n",
        "                sampled += list(idx)\n",
        "                next_Qs = np.amax(\n",
        "                    np.array([self.qTable[i] for i in next_states_batch]), axis=1\n",
        "                )\n",
        "                target_Qs = rewards_batch + self.gamma * next_Qs\n",
        "                iter = 0\n",
        "                while iter <= 100:  # To prevent the agorithm from getting stuck\n",
        "                    predicted_Qs = np.array(\n",
        "                        [\n",
        "                            self.qTable[states_batch[i]][actions_batch[i]]\n",
        "                            for i in range(len(idx))\n",
        "                        ]\n",
        "                    )\n",
        "                    mse = (np.square(predicted_Qs - target_Qs)).mean(axis=None)\n",
        "                    if (\n",
        "                        mse <= self.epsilon\n",
        "                    ):  # if mse now smaller than epsilon we go to next batch\n",
        "                        # print(f\"Final MSE = {mse}\")\n",
        "                        break\n",
        "                    dim0 = [x[0] for x in states_batch]\n",
        "                    dim1 = [x[1] for x in states_batch]\n",
        "                    dim2 = [x[2] for x in states_batch]\n",
        "                    dim3 = [x[3] for x in states_batch]\n",
        "                    updated = self.qTable[\n",
        "                        dim0, dim1, dim2, dim3, actions_batch\n",
        "                    ] + self.alpha * (target_Qs - predicted_Qs)\n",
        "                    self.qTable[dim0, dim1, dim2, dim3, actions_batch] = updated\n",
        "                    iter += 1\n",
        "\n",
        "\n",
        "\n",
        "    def actions(self, state):\n",
        "        return np.argmax(self.qTable[state])"
      ],
      "metadata": {
        "id": "YtD906CvIubc"
      },
      "execution_count": null,
      "outputs": []
    },
    {
      "cell_type": "code",
      "source": [
        "def preprocess(dataset):\n",
        "    unstacked = [entry for eps in dataset for entry in eps]\n",
        "    return np.array(unstacked, dtype=object)"
      ],
      "metadata": {
        "id": "3D3yL1QkKJ2y"
      },
      "execution_count": null,
      "outputs": []
    },
    {
      "cell_type": "code",
      "source": [
        "# Testing\n",
        "# env = gym.make(\"CartPole-v1\")\n",
        "# e1 = Encoding(env)\n",
        "# prep = preprocess(np_expert)\n",
        "# prep.shape\n",
        "# FQL = FittedQLearning(e1, env, 0.1, prep.shape[0], 10)"
      ],
      "metadata": {
        "id": "tYl8HIA1M_n_"
      },
      "execution_count": null,
      "outputs": []
    },
    {
      "cell_type": "code",
      "source": [
        "# FQL.fit(prep)"
      ],
      "metadata": {
        "id": "emrnLN-nFSPD"
      },
      "execution_count": null,
      "outputs": []
    },
    {
      "cell_type": "markdown",
      "source": [
        "# Train & Plot"
      ],
      "metadata": {
        "id": "yuTFlUDeLLqt"
      }
    },
    {
      "cell_type": "markdown",
      "source": [
        "Dataset Preparation"
      ],
      "metadata": {
        "id": "oJSyQNelqu7Z"
      }
    },
    {
      "cell_type": "code",
      "source": [
        "# diff() function ensures that an episode wouldn't get drawn twice\n",
        "sample = lambda data, size: np.random.choice(data, size=size, replace=False)\n",
        "diff = lambda arr1, arr2: np.setdiff1d(arr1, arr2)"
      ],
      "metadata": {
        "id": "Yr6r9v23P8ef"
      },
      "execution_count": null,
      "outputs": []
    },
    {
      "cell_type": "code",
      "source": [
        "np.random.seed(579)\n",
        "random100 = sample(np_Random, 100)\n",
        "expert100 = sample(np_expert, 100)\n",
        "half100 = np.concatenate((sample(np_expert, 50), sample(np_Random, 50)))\n",
        "random250 = np.concatenate((random100, sample(diff(np_Random, random100), 150)))\n",
        "expert250 = np.concatenate((expert100, sample(diff(np_expert, expert100), 150)))\n",
        "half250 = np.concatenate((half100, sample(diff(np_Random, half100), 75), sample(diff(np_expert, half100), 75)))\n",
        "random500 = np.concatenate((random250, sample(diff(np_Random, random250), 250)))\n",
        "expert500 = np.concatenate((expert250, sample(diff(np_expert, expert250), 250)))\n",
        "half500 = np.concatenate((half250, sample(diff(np_Random, half250), 125), sample(diff(np_expert, half250), 125)))"
      ],
      "metadata": {
        "id": "jMkC74spKw6n"
      },
      "execution_count": null,
      "outputs": []
    },
    {
      "cell_type": "code",
      "source": [
        "env = gym.make(\"CartPole-v1\")\n",
        "e1 = Encoding(env)\n",
        "random100p = preprocess(random100)\n",
        "expert100p = preprocess(expert100)\n",
        "half100p = preprocess(half100)\n",
        "random250p = preprocess(random250)\n",
        "expert250p = preprocess(expert250)\n",
        "half250p = preprocess(half250)\n",
        "random500p = preprocess(random500)\n",
        "expert500p = preprocess(expert500)\n",
        "half500p = preprocess(half500)"
      ],
      "metadata": {
        "id": "90-m3-ZObjmV"
      },
      "execution_count": null,
      "outputs": []
    },
    {
      "cell_type": "markdown",
      "source": [
        "**Data Analysis: Calculate Average on each dataset**"
      ],
      "metadata": {
        "id": "8Fv0-cmG2X1k"
      }
    },
    {
      "cell_type": "code",
      "source": [
        "avgrandom100p = len(random100p) / 100\n",
        "avgrandom250p = len(random250p) / 250\n",
        "avgrandom500p = len(random500p) / 500\n",
        "avgexpert100p = len(expert100p) / 100\n",
        "avgexpert250p = len(expert250p) / 250\n",
        "avgexpert500p = len(expert500p) / 500\n",
        "avghalf100p = len(half100p)/100\n",
        "avghalf250p = len(half250p)/250\n",
        "avghalf500p = len(half500p)/500"
      ],
      "metadata": {
        "id": "tw0vV7zO2Hfr"
      },
      "execution_count": null,
      "outputs": []
    },
    {
      "cell_type": "code",
      "source": [
        "print(\"Random Averages \\n 100: {0} \\n 250: {1} \\n 500: {2}\".format(avgrandom100p,avgrandom250p, avgrandom500p))\n",
        "print(\"Expert Averages \\n 100: {0} \\n 250: {1} \\n 500: {2}\".format(avgexpert100p,avgexpert250p, avgexpert500p))\n",
        "print(\"Half-Half Averages \\n 100: {0} \\n 250: {1} \\n 500: {2}\".format(avghalf100p,avghalf250p, avghalf500p))"
      ],
      "metadata": {
        "colab": {
          "base_uri": "https://localhost:8080/"
        },
        "id": "_49mAar-2PAO",
        "outputId": "1b126195-a90c-48c7-b0d2-d600ca9a4ced"
      },
      "execution_count": null,
      "outputs": [
        {
          "output_type": "stream",
          "name": "stdout",
          "text": [
            "Random Averages \n",
            " 100: 22.29 \n",
            " 250: 21.44 \n",
            " 500: 21.96\n",
            "Expert Averages \n",
            " 100: 154.96 \n",
            " 250: 146.732 \n",
            " 500: 147.64\n",
            "Half-Half Averages \n",
            " 100: 80.24 \n",
            " 250: 82.324 \n",
            " 500: 84.454\n"
          ]
        }
      ]
    },
    {
      "cell_type": "code",
      "source": [
        "random100imi = Imitation_Model()\n",
        "random100imi.learn(random100)\n",
        "expert100imi = Imitation_Model()\n",
        "expert100imi.learn(expert100)\n",
        "half100imi = Imitation_Model()\n",
        "half100imi.learn(half100)\n",
        "random250imi = Imitation_Model()\n",
        "random250imi.learn(random250)\n",
        "expert250imi = Imitation_Model()\n",
        "expert250imi.learn(expert250)\n",
        "half250imi = Imitation_Model()\n",
        "half250imi.learn(half250)\n",
        "random500imi = Imitation_Model()\n",
        "random500imi.learn(random500)\n",
        "expert500imi = Imitation_Model()\n",
        "expert500imi.learn(expert500)\n",
        "half500imi = Imitation_Model()\n",
        "half500imi.learn(half500)\n",
        "\n",
        "random100q = FittedQLearning(e1, env, 0.015, random100p.shape[0], 15)\n",
        "random100q.fit(random100p)\n",
        "expert100q = FittedQLearning(e1, env, 0.015, expert100p.shape[0], 15)\n",
        "expert100q.fit(expert100p)\n",
        "half100q = FittedQLearning(e1, env, 0.015, half100p.shape[0], 15)\n",
        "half100q.fit(half100p)\n",
        "random250q = FittedQLearning(e1, env, 0.015, random250p.shape[0], 15)\n",
        "random250q.fit(random250p)\n",
        "expert250q = FittedQLearning(e1, env, 0.015, expert250p.shape[0], 15)\n",
        "expert250q.fit(expert250p)\n",
        "half250q = FittedQLearning(e1, env, 0.015, half250p.shape[0], 15)\n",
        "half250q.fit(half250p)\n",
        "random500q = FittedQLearning(e1, env, 0.015, random500p.shape[0], 15)\n",
        "random500q.fit(random500p)\n",
        "expert500q = FittedQLearning(e1, env, 0.015, expert500p.shape[0], 15)\n",
        "expert500q.fit(expert500p)\n",
        "half500q = FittedQLearning(e1, env, 0.015, half500p.shape[0], 15)\n",
        "half500q.fit(half500p)"
      ],
      "metadata": {
        "id": "KspP4wvmeMq8"
      },
      "execution_count": null,
      "outputs": []
    },
    {
      "cell_type": "code",
      "source": [
        "def q_reward(agent):\n",
        "    env = gym.make(\"CartPole-v1\")\n",
        "    e1 = Encoding(env)\n",
        "    np.random.seed(579)\n",
        "    rewards = []\n",
        "    for episode in range(100):\n",
        "        state = env.reset()[0]\n",
        "        discrete_state = e1.get_discrete_state(state)\n",
        "        rw = 0\n",
        "        while True:\n",
        "            action = np.argmax(agent.qTable[discrete_state[0], discrete_state[1], \n",
        "                                            discrete_state[2], discrete_state[3]])\n",
        "            state_next, reward, done, timeout, _ = env.step(action)\n",
        "            discrete_state_next = e1.get_discrete_state(state_next)\n",
        "            rw += reward\n",
        "            discrete_state = discrete_state_next\n",
        "            if done or timeout:\n",
        "                break\n",
        "        rewards.append(rw)\n",
        "    return np.array(rewards)\n",
        "\n",
        "def imitation_reward(agent):\n",
        "    env = gym.make(\"CartPole-v1\")\n",
        "    e1 = Encoding(env)\n",
        "    np.random.seed(579)\n",
        "    rewards = []\n",
        "    for episode in range(100):\n",
        "        state = env.reset()[0]\n",
        "        discrete_state = e1.get_discrete_state(state)\n",
        "        rw = 0\n",
        "        while True:\n",
        "            action = agent.model.predict([discrete_state])[0]\n",
        "            state_next, reward, done, timeout, _ = env.step(action)\n",
        "            discrete_state_next = e1.get_discrete_state(state_next)\n",
        "            rw += reward\n",
        "            discrete_state = discrete_state_next\n",
        "            if done or timeout:\n",
        "                break\n",
        "        rewards.append(rw)\n",
        "    return np.array(rewards)"
      ],
      "metadata": {
        "id": "Sow2NqFFvDYq"
      },
      "execution_count": null,
      "outputs": []
    },
    {
      "cell_type": "markdown",
      "source": [
        "Testing"
      ],
      "metadata": {
        "id": "zDY2uOeeAwS8"
      }
    },
    {
      "cell_type": "code",
      "source": [
        "# expert500q = FittedQLearning(e1, env, 0.015, expert500p.shape[0], 15)\n",
        "# expert500q.fit(expert500p)\n",
        "# expert500q_reward = q_reward(expert500q)"
      ],
      "metadata": {
        "id": "bP4HLRRoAmmX"
      },
      "execution_count": null,
      "outputs": []
    },
    {
      "cell_type": "code",
      "source": [
        "# expert500q_reward"
      ],
      "metadata": {
        "id": "JSZ3WA5a8pdn"
      },
      "execution_count": null,
      "outputs": []
    },
    {
      "cell_type": "markdown",
      "source": [
        "End of Testing"
      ],
      "metadata": {
        "id": "FEvh7esmAxjD"
      }
    },
    {
      "cell_type": "code",
      "source": [
        "random100imi_reward = imitation_reward(random100imi)\n",
        "expert100imi_reward = imitation_reward(expert100imi)\n",
        "half100imi_reward = imitation_reward(half100imi)\n",
        "random250imi_reward = imitation_reward(random250imi)\n",
        "expert250imi_reward = imitation_reward(expert250imi)\n",
        "half250imi_reward = imitation_reward(half250imi)\n",
        "random500imi_reward = imitation_reward(random500imi)\n",
        "expert500imi_reward = imitation_reward(expert500imi)\n",
        "half500imi_reward = imitation_reward(half500imi)\n",
        "\n",
        "random100q_reward = q_reward(random100q)\n",
        "expert100q_reward = q_reward(expert100q)\n",
        "half100q_reward = q_reward(half100q)\n",
        "random250q_reward = q_reward(random250q)\n",
        "expert250q_reward = q_reward(expert250q)\n",
        "half250q_reward = q_reward(half250q)\n",
        "random500q_reward = q_reward(random500q)\n",
        "expert500q_reward = q_reward(expert500q)\n",
        "half500q_reward = q_reward(half500q)\n"
      ],
      "metadata": {
        "id": "EwbvPj6J_r2o"
      },
      "execution_count": null,
      "outputs": []
    },
    {
      "cell_type": "markdown",
      "source": [
        "**The red, green & blue horizontal lines in each of the three plots below correspond to average returns of the expert, random and half-half policies respectively.**"
      ],
      "metadata": {
        "id": "ZfK8WI-lvzkS"
      }
    },
    {
      "cell_type": "code",
      "source": [
        "avg_calc = lambda x: sum([len(y) for y in x]) / len(x)\n",
        "figs, axes = plt.subplots(1, 3, figsize=(20, 5))\n",
        "for i, data in enumerate(([expert100imi_reward, expert100q_reward, random100imi_reward, \n",
        "                           random100q_reward, half100imi_reward, half100q_reward, \n",
        "                           expert100, random100, half100],\n",
        "                          [expert250imi_reward, expert250q_reward, random250imi_reward, \n",
        "                           random250q_reward, half250imi_reward, half250q_reward, \n",
        "                           expert250, random250, half250],\n",
        "                          [expert100imi_reward, expert500q_reward, random500imi_reward, \n",
        "                           random500q_reward, half500imi_reward, half500q_reward, \n",
        "                           expert500, random500, half500])):\n",
        "    axes[i].set_title(f\"Dataset Size = {(100, 250, 500)[i]}\")\n",
        "    raw = {'x': [\"Expert\"] * 200 + [\"Random\"] * 200 + [\"Half-Half\"] * 200,\n",
        "           'y': (lambda x: list(x[0]) + list(x[1]) + list(x[2]) + list(x[3]) +\n",
        "                 list(x[4]) + list(x[5]))(data),\n",
        "           'category': ([\"Imitation Learning\"] * 100 + [\"Fitted Q-Learning\"] * 100) * 3}\n",
        "    avg_expert = avg_calc(data[6])\n",
        "    avg_random = avg_calc(data[7])\n",
        "    avg_half = avg_calc(data[8])\n",
        "    axes[i].axhline(avg_expert, color='r', linewidth=0.5)\n",
        "    axes[i].axhline(avg_random, color='g', linewidth=0.5)\n",
        "    axes[i].axhline(avg_half, color='b', linewidth=0.5)\n",
        "    sns.barplot(x='x', y='y', hue='category', data=raw, ax=axes[i], errorbar='se')"
      ],
      "metadata": {
        "colab": {
          "base_uri": "https://localhost:8080/",
          "height": 467
        },
        "id": "k8TJJIMzIhXj",
        "outputId": "a19d4d28-2f6f-49c8-a52e-a5d373c44a0a"
      },
      "execution_count": null,
      "outputs": [
        {
          "output_type": "display_data",
          "data": {
            "text/plain": [
              "<Figure size 2000x500 with 3 Axes>"
            ],
            "image/png": "[encoded data removed]"
          },
          "metadata": {}
        }
      ]
    },
    {
      "cell_type": "code",
      "source": [
        "expert500q_reward.mean()"
      ],
      "metadata": {
        "colab": {
          "base_uri": "https://localhost:8080/"
        },
        "id": "GmjIwsMZnLBU",
        "outputId": "69bc4c4c-b578-4bf1-d9eb-11ce22fd9c42"
      },
      "execution_count": null,
      "outputs": [
        {
          "output_type": "execute_result",
          "data": {
            "text/plain": [
              "172.27"
            ]
          },
          "metadata": {},
          "execution_count": 158
        }
      ]
    },
    {
      "cell_type": "markdown",
      "source": [
        "# Bonus: Deep Q-Learning"
      ],
      "metadata": {
        "id": "jG-3YCXEeYX6"
      }
    },
    {
      "cell_type": "markdown",
      "source": [
        "We used the expert dataset of size 500 to tune the model here. Unfortunately, the result was still not ideal (i.e., low average return), but we just want to demonstrate our thought process here."
      ],
      "metadata": {
        "id": "3S5jrXYXeb8H"
      }
    },
    {
      "cell_type": "code",
      "source": [
        "import numpy as np\n",
        "import tensorflow as tf\n",
        "from tensorflow.keras.models import Sequential\n",
        "from tensorflow.keras.layers import Dense\n",
        "from tensorflow.keras.optimizers import Adam"
      ],
      "metadata": {
        "id": "0ii3hNWEKVug"
      },
      "execution_count": null,
      "outputs": []
    },
    {
      "cell_type": "code",
      "source": [
        "def dq_state_convert(t):\n",
        "    test = np.asarray(t)\n",
        "    return test"
      ],
      "metadata": {
        "id": "FSMZoykMRwxf"
      },
      "execution_count": null,
      "outputs": []
    },
    {
      "cell_type": "code",
      "source": [
        "test = expert500p[:,0]\n",
        "x = map(np.array, test)\n",
        "x = np.array(list(x))\n",
        "x.dtype"
      ],
      "metadata": {
        "colab": {
          "base_uri": "https://localhost:8080/"
        },
        "id": "QFZuCyha_Bgx",
        "outputId": "fe8c7991-5c1e-4615-e236-1bbd9f8a404a"
      },
      "execution_count": null,
      "outputs": [
        {
          "output_type": "execute_result",
          "data": {
            "text/plain": [
              "dtype('int64')"
            ]
          },
          "metadata": {},
          "execution_count": 139
        }
      ]
    },
    {
      "cell_type": "code",
      "source": [
        "indices = np.arange(100)\n",
        "rewards = expert500p[:,2]\n",
        "idx = np.random.choice(indices, size=20, replace=False)\n",
        "rewards_batch = rewards[idx].astype(np.float64)\n",
        "rewards_batch.shape"
      ],
      "metadata": {
        "colab": {
          "base_uri": "https://localhost:8080/"
        },
        "id": "_8eROMtMOnPc",
        "outputId": "7934d72d-fb65-4376-cfe6-e400e9b9ee25"
      },
      "execution_count": null,
      "outputs": [
        {
          "output_type": "execute_result",
          "data": {
            "text/plain": [
              "(20,)"
            ]
          },
          "metadata": {},
          "execution_count": 140
        }
      ]
    },
    {
      "cell_type": "code",
      "source": [
        "def aux(state_batch):\n",
        "  x = map(np.array, state_batch)\n",
        "  x = np.array(list(x))\n",
        "  return x"
      ],
      "metadata": {
        "id": "i7lE6J5HOVZh"
      },
      "execution_count": null,
      "outputs": []
    },
    {
      "cell_type": "code",
      "source": [
        "class DQNAgent:\n",
        "    def __init__(self,env,batch_size,epochs):\n",
        "        self.state_size = 4\n",
        "        self.action_size = env.action_space.n\n",
        "        self.gamma = 0.95\n",
        "        self.learning_rate = 0.005\n",
        "        self.model = self.build_model()\n",
        "        self.batch_size = batch_size\n",
        "        self.epoch = epochs\n",
        "\n",
        "    def build_model(self):\n",
        "        model = Sequential()\n",
        "        model.add(Dense(24, input_dim=self.state_size, activation='relu'))\n",
        "        model.add(Dense(12, activation='relu'))\n",
        "        model.add(Dense(self.action_size, activation='linear'))\n",
        "        model.compile(loss='mse', optimizer=Adam(learning_rate=self.learning_rate))\n",
        "        return model\n",
        "\n",
        "    def train(self, dataset):\n",
        "        np.random.seed(579)\n",
        "        states = dataset[:, 0]\n",
        "        actions = dataset[:, 1]\n",
        "        rewards = dataset[:, 2]\n",
        "        next_states = dataset[:, 3]\n",
        "        for i in range(self.epoch):\n",
        "          indices = np.arange(len(dataset))\n",
        "          sampled = []\n",
        "          notfinished = True\n",
        "          print(\"Epochs : {0}\".format(i+1))\n",
        "          while notfinished:\n",
        "              remaining = np.setdiff1d(indices, sampled)\n",
        "              if len(remaining) <= self.batch_size:\n",
        "                  notfinished = False\n",
        "                  idx = remaining\n",
        "              else:\n",
        "                  idx = np.random.choice(remaining, size=self.batch_size, replace=False)\n",
        "              states_batch = states[idx]\n",
        "              actions_batch = actions[idx].astype(int)\n",
        "              rewards_batch = rewards[idx].astype(np.float64)\n",
        "              next_states_batch = next_states[idx]\n",
        "              sampled += list(idx)\n",
        "\n",
        "              state_conv = aux(states_batch) #try converting states from tuple into numpy \n",
        "              next_state_conv = aux(next_states_batch)\n",
        "\n",
        "              target_qs = self.model.predict(next_state_conv, verbose = 0)\n",
        "              max_next_qs = np.amax(target_qs, axis=1)\n",
        "              target_fs = self.model.predict(state_conv,verbose = 0)\n",
        "              targets = rewards_batch + self.gamma * max_next_qs\n",
        "\n",
        "              for i, action in enumerate(actions_batch):\n",
        "                  target_fs[i][action] = targets[i]\n",
        "              \n",
        "              self.model.fit(state_conv, target_fs,batch_size=self.batch_size, epochs=1, verbose=1)\n",
        "              #laps +=1\n",
        "  \n",
        "    def act(self,state):\n",
        "        pre_state = dq_state_convert(state)\n",
        "        pre_state = pre_state.reshape(1,4)\n",
        "        q_val = self.model.predict(pre_state,verbose = 0)\n",
        "        return np.argmax(q_val[0])"
      ],
      "metadata": {
        "id": "4h_b4qWtKZH8"
      },
      "execution_count": null,
      "outputs": []
    },
    {
      "cell_type": "code",
      "source": [
        "env = gym.make(\"CartPole-v1\")\n",
        "with tf.device('/device:GPU:0'):\n",
        "  expert500dq = DQNAgent(env,expert500p.shape[0],100)\n",
        "  expert500dq.train(expert500p)"
      ],
      "metadata": {
        "colab": {
          "base_uri": "https://localhost:8080/"
        },
        "id": "z81VZ6dmNdvq",
        "outputId": "fa0093a0-ed99-4fc6-f146-00838198e8c8"
      },
      "execution_count": null,
      "outputs": [
        {
          "output_type": "stream",
          "name": "stdout",
          "text": [
            "Epochs : 1\n",
            "1/1 [==============================] - 1s 1s/step - loss: 1.4746\n",
            "Epochs : 2\n",
            "1/1 [==============================] - 0s 14ms/step - loss: 1.3229\n",
            "Epochs : 3\n",
            "1/1 [==============================] - 0s 13ms/step - loss: 1.2132\n",
            "Epochs : 4\n",
            "1/1 [==============================] - 0s 14ms/step - loss: 1.1740\n",
            "Epochs : 5\n",
            "1/1 [==============================] - 0s 20ms/step - loss: 1.1698\n",
            "Epochs : 6\n",
            "1/1 [==============================] - 0s 13ms/step - loss: 1.1769\n",
            "Epochs : 7\n",
            "1/1 [==============================] - 0s 13ms/step - loss: 1.2019\n",
            "Epochs : 8\n",
            "1/1 [==============================] - 0s 15ms/step - loss: 1.2406\n",
            "Epochs : 9\n",
            "1/1 [==============================] - 0s 11ms/step - loss: 1.2514\n",
            "Epochs : 10\n",
            "1/1 [==============================] - 0s 13ms/step - loss: 1.2523\n",
            "Epochs : 11\n",
            "1/1 [==============================] - 0s 16ms/step - loss: 1.2498\n",
            "Epochs : 12\n",
            "1/1 [==============================] - 0s 11ms/step - loss: 1.2375\n",
            "Epochs : 13\n",
            "1/1 [==============================] - 0s 16ms/step - loss: 1.2204\n",
            "Epochs : 14\n",
            "1/1 [==============================] - 0s 13ms/step - loss: 1.1983\n",
            "Epochs : 15\n",
            "1/1 [==============================] - 0s 14ms/step - loss: 1.1735\n",
            "Epochs : 16\n",
            "1/1 [==============================] - 0s 16ms/step - loss: 1.1455\n",
            "Epochs : 17\n",
            "1/1 [==============================] - 0s 15ms/step - loss: 1.1217\n",
            "Epochs : 18\n",
            "1/1 [==============================] - 0s 10ms/step - loss: 1.1036\n",
            "Epochs : 19\n",
            "1/1 [==============================] - 0s 13ms/step - loss: 1.0907\n",
            "Epochs : 20\n",
            "1/1 [==============================] - 0s 14ms/step - loss: 1.0815\n",
            "Epochs : 21\n",
            "1/1 [==============================] - 0s 14ms/step - loss: 1.0808\n",
            "Epochs : 22\n",
            "1/1 [==============================] - 0s 14ms/step - loss: 1.0914\n",
            "Epochs : 23\n",
            "1/1 [==============================] - 0s 14ms/step - loss: 1.1108\n",
            "Epochs : 24\n",
            "1/1 [==============================] - 0s 13ms/step - loss: 1.1336\n",
            "Epochs : 25\n",
            "1/1 [==============================] - 0s 13ms/step - loss: 1.1581\n",
            "Epochs : 26\n",
            "1/1 [==============================] - 0s 19ms/step - loss: 1.1821\n",
            "Epochs : 27\n",
            "1/1 [==============================] - 0s 15ms/step - loss: 1.2019\n",
            "Epochs : 28\n",
            "1/1 [==============================] - 0s 11ms/step - loss: 1.2153\n",
            "Epochs : 29\n",
            "1/1 [==============================] - 0s 14ms/step - loss: 1.2193\n",
            "Epochs : 30\n",
            "1/1 [==============================] - 0s 13ms/step - loss: 1.2120\n",
            "Epochs : 31\n",
            "1/1 [==============================] - 0s 14ms/step - loss: 1.1907\n",
            "Epochs : 32\n",
            "1/1 [==============================] - 0s 15ms/step - loss: 1.1533\n",
            "Epochs : 33\n",
            "1/1 [==============================] - 0s 11ms/step - loss: 1.0993\n",
            "Epochs : 34\n",
            "1/1 [==============================] - 0s 14ms/step - loss: 1.0323\n",
            "Epochs : 35\n",
            "1/1 [==============================] - 0s 11ms/step - loss: 0.9577\n",
            "Epochs : 36\n",
            "1/1 [==============================] - 0s 14ms/step - loss: 0.8851\n",
            "Epochs : 37\n",
            "1/1 [==============================] - 0s 15ms/step - loss: 0.8292\n",
            "Epochs : 38\n",
            "1/1 [==============================] - 0s 15ms/step - loss: 0.8103\n",
            "Epochs : 39\n",
            "1/1 [==============================] - 0s 13ms/step - loss: 0.8414\n",
            "Epochs : 40\n",
            "1/1 [==============================] - 0s 14ms/step - loss: 0.9307\n",
            "Epochs : 41\n",
            "1/1 [==============================] - 0s 14ms/step - loss: 1.0652\n",
            "Epochs : 42\n",
            "1/1 [==============================] - 0s 15ms/step - loss: 1.2048\n",
            "Epochs : 43\n",
            "1/1 [==============================] - 0s 14ms/step - loss: 1.3135\n",
            "Epochs : 44\n",
            "1/1 [==============================] - 0s 14ms/step - loss: 1.3712\n",
            "Epochs : 45\n",
            "1/1 [==============================] - 0s 11ms/step - loss: 1.3637\n",
            "Epochs : 46\n",
            "1/1 [==============================] - 0s 15ms/step - loss: 1.3109\n",
            "Epochs : 47\n",
            "1/1 [==============================] - 0s 13ms/step - loss: 1.2420\n",
            "Epochs : 48\n",
            "1/1 [==============================] - 0s 13ms/step - loss: 1.1713\n",
            "Epochs : 49\n",
            "1/1 [==============================] - 0s 13ms/step - loss: 1.1038\n",
            "Epochs : 50\n",
            "1/1 [==============================] - 0s 14ms/step - loss: 1.0410\n",
            "Epochs : 51\n",
            "1/1 [==============================] - 0s 14ms/step - loss: 0.9839\n",
            "Epochs : 52\n",
            "1/1 [==============================] - 0s 13ms/step - loss: 0.9341\n",
            "Epochs : 53\n",
            "1/1 [==============================] - 0s 14ms/step - loss: 0.8858\n",
            "Epochs : 54\n",
            "1/1 [==============================] - 0s 15ms/step - loss: 0.8326\n",
            "Epochs : 55\n",
            "1/1 [==============================] - 0s 10ms/step - loss: 0.7745\n",
            "Epochs : 56\n",
            "1/1 [==============================] - 0s 14ms/step - loss: 0.7153\n",
            "Epochs : 57\n",
            "1/1 [==============================] - 0s 13ms/step - loss: 0.6632\n",
            "Epochs : 58\n",
            "1/1 [==============================] - 0s 14ms/step - loss: 0.6181\n",
            "Epochs : 59\n",
            "1/1 [==============================] - 0s 14ms/step - loss: 0.5828\n",
            "Epochs : 60\n",
            "1/1 [==============================] - 0s 14ms/step - loss: 0.5607\n",
            "Epochs : 61\n",
            "1/1 [==============================] - 0s 14ms/step - loss: 0.5527\n",
            "Epochs : 62\n",
            "1/1 [==============================] - 0s 11ms/step - loss: 0.5581\n",
            "Epochs : 63\n",
            "1/1 [==============================] - 0s 14ms/step - loss: 0.5752\n",
            "Epochs : 64\n",
            "1/1 [==============================] - 0s 15ms/step - loss: 0.6016\n",
            "Epochs : 65\n",
            "1/1 [==============================] - 0s 13ms/step - loss: 0.6349\n",
            "Epochs : 66\n",
            "1/1 [==============================] - 0s 13ms/step - loss: 0.6722\n",
            "Epochs : 67\n",
            "1/1 [==============================] - 0s 14ms/step - loss: 0.7106\n",
            "Epochs : 68\n",
            "1/1 [==============================] - 0s 14ms/step - loss: 0.7470\n",
            "Epochs : 69\n",
            "1/1 [==============================] - 0s 15ms/step - loss: 0.7783\n",
            "Epochs : 70\n",
            "1/1 [==============================] - 0s 14ms/step - loss: 0.8020\n",
            "Epochs : 71\n",
            "1/1 [==============================] - 0s 17ms/step - loss: 0.8160\n",
            "Epochs : 72\n",
            "1/1 [==============================] - 0s 14ms/step - loss: 0.8190\n",
            "Epochs : 73\n",
            "1/1 [==============================] - 0s 14ms/step - loss: 0.8111\n",
            "Epochs : 74\n",
            "1/1 [==============================] - 0s 14ms/step - loss: 0.7938\n",
            "Epochs : 75\n",
            "1/1 [==============================] - 0s 11ms/step - loss: 0.7708\n",
            "Epochs : 76\n",
            "1/1 [==============================] - 0s 10ms/step - loss: 0.7480\n",
            "Epochs : 77\n",
            "1/1 [==============================] - 0s 14ms/step - loss: 0.7340\n",
            "Epochs : 78\n",
            "1/1 [==============================] - 0s 12ms/step - loss: 0.7382\n",
            "Epochs : 79\n",
            "1/1 [==============================] - 0s 16ms/step - loss: 0.7690\n",
            "Epochs : 80\n",
            "1/1 [==============================] - 0s 13ms/step - loss: 0.8284\n",
            "Epochs : 81\n",
            "1/1 [==============================] - 0s 13ms/step - loss: 0.9118\n",
            "Epochs : 82\n",
            "1/1 [==============================] - 0s 14ms/step - loss: 1.0009\n",
            "Epochs : 83\n",
            "1/1 [==============================] - 0s 14ms/step - loss: 1.0796\n",
            "Epochs : 84\n",
            "1/1 [==============================] - 0s 19ms/step - loss: 1.0998\n",
            "Epochs : 85\n",
            "1/1 [==============================] - 0s 13ms/step - loss: 1.0459\n",
            "Epochs : 86\n",
            "1/1 [==============================] - 0s 16ms/step - loss: 0.9518\n",
            "Epochs : 87\n",
            "1/1 [==============================] - 0s 10ms/step - loss: 0.8612\n",
            "Epochs : 88\n",
            "1/1 [==============================] - 0s 11ms/step - loss: 0.7813\n",
            "Epochs : 89\n",
            "1/1 [==============================] - 0s 23ms/step - loss: 0.7215\n",
            "Epochs : 90\n",
            "1/1 [==============================] - 0s 19ms/step - loss: 0.6817\n",
            "Epochs : 91\n",
            "1/1 [==============================] - 0s 13ms/step - loss: 0.6613\n",
            "Epochs : 92\n",
            "1/1 [==============================] - 0s 11ms/step - loss: 0.6573\n",
            "Epochs : 93\n",
            "1/1 [==============================] - 0s 11ms/step - loss: 0.6665\n",
            "Epochs : 94\n",
            "1/1 [==============================] - 0s 17ms/step - loss: 0.6854\n",
            "Epochs : 95\n",
            "1/1 [==============================] - 0s 13ms/step - loss: 0.7112\n",
            "Epochs : 96\n",
            "1/1 [==============================] - 0s 13ms/step - loss: 0.7410\n",
            "Epochs : 97\n",
            "1/1 [==============================] - 0s 15ms/step - loss: 0.7719\n",
            "Epochs : 98\n",
            "1/1 [==============================] - 0s 11ms/step - loss: 0.8011\n",
            "Epochs : 99\n",
            "1/1 [==============================] - 0s 17ms/step - loss: 0.8259\n",
            "Epochs : 100\n",
            "1/1 [==============================] - 0s 10ms/step - loss: 0.8439\n"
          ]
        }
      ]
    },
    {
      "cell_type": "code",
      "source": [
        "def dq_reward(agent):\n",
        "    env = gym.make(\"CartPole-v1\")\n",
        "    e1 = Encoding(env)\n",
        "    np.random.seed(579)\n",
        "    rewards = []\n",
        "    for episode in range(100):\n",
        "        state = env.reset()[0]\n",
        "        discrete_state = e1.get_discrete_state(state)\n",
        "        rw = 0\n",
        "        while True:\n",
        "            action = agent.act(discrete_state)\n",
        "            state_next, reward, done, timeout, _ = env.step(action)\n",
        "            discrete_state_next = e1.get_discrete_state(state_next)\n",
        "            rw += reward\n",
        "            discrete_state = discrete_state_next\n",
        "            if done or timeout:\n",
        "                break\n",
        "        rewards.append(rw)\n",
        "    return np.array(rewards)"
      ],
      "metadata": {
        "id": "c4REwUshWCKZ"
      },
      "execution_count": null,
      "outputs": []
    },
    {
      "cell_type": "code",
      "source": [
        "with tf.device('/device:GPU:0'):\n",
        "  dq_500_r = dq_reward(expert500dq)"
      ],
      "metadata": {
        "id": "mei3PP8GZLmG"
      },
      "execution_count": null,
      "outputs": []
    },
    {
      "cell_type": "code",
      "source": [
        "dq_500_r.mean()"
      ],
      "metadata": {
        "colab": {
          "base_uri": "https://localhost:8080/"
        },
        "id": "5lEahXvmavjT",
        "outputId": "9a071490-b7df-4e3a-e236-e02e8755fcd1"
      },
      "execution_count": null,
      "outputs": [
        {
          "output_type": "execute_result",
          "data": {
            "text/plain": [
              "9.42"
            ]
          },
          "metadata": {},
          "execution_count": 147
        }
      ]
    }
  ]
}